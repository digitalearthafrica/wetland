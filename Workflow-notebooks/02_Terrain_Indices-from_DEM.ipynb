{
 "cells": [
  {
   "cell_type": "markdown",
   "id": "5f41482f-99e5-49f5-8616-22f96d742d7d",
   "metadata": {},
   "source": [
    "# Derive terrain attributes from a Digital Elevation Model (DEM)"
   ]
  },
  {
   "cell_type": "markdown",
   "id": "28e58eb3-4dd5-45b4-a55e-cb9464e4cbde",
   "metadata": {},
   "source": [
    "## Description\n",
    "The purpose of this notebook is to compute terrain attributes from a Digital Elevation Model (DEM) for a specific area of interest. These terrain attributes provide important information about the topographic characteristics of the landscape and are particularly useful for studying wetlands. The notebook calculates various terrain indices such as aspect, curvature, Topographic Wetness Index (TWI), Terrain Profile Index (TPI), and hillshade. These indices offer insights into slope, orientation, shape, hydrology, water flow patterns, and other factors relevant to wetlands. By deriving these terrain attributes, researchers and analysts can better understand wetland dynamics, assess habitats, model ecosystems, and plan conservation strategies. The resulting terrain indices enhance wetland mapping, classification, and analysis, facilitating more accurate and detailed studies related to wetland ecosystems."
   ]
  },
  {
   "cell_type": "markdown",
   "id": "fcea8d81-08a9-4d96-a039-1c9b5368a51c",
   "metadata": {},
   "source": [
    "## Getting started\n",
    "To run this analysis, run all the cells in the notebook, starting with the \"Inastall and load packages\" cell."
   ]
  },
  {
   "cell_type": "markdown",
   "id": "c1409e58-e870-46aa-864a-be6d960a3a3a",
   "metadata": {},
   "source": [
    "## Install and load Packages"
   ]
  },
  {
   "cell_type": "markdown",
   "id": "e62f20de-72d9-45fe-ac74-174b6ebb3d8e",
   "metadata": {},
   "source": [
    "### Optional - Install onetime"
   ]
  },
  {
   "cell_type": "code",
   "execution_count": 1,
   "id": "ff4c7ae4-d3ec-4e75-a6f9-fd0f353f9413",
   "metadata": {},
   "outputs": [],
   "source": [
    "# !pip install richdem\n",
    "# !pip install xarray-spatial\n",
    "# !pip install focal_stats"
   ]
  },
  {
   "cell_type": "code",
   "execution_count": 2,
   "id": "2e1dd8a6-ae6d-41fd-adf1-0c8806a8f81a",
   "metadata": {},
   "outputs": [],
   "source": [
    "%matplotlib inline\n",
    "import os\n",
    "import math\n",
    "import datacube\n",
    "import warnings\n",
    "import rioxarray\n",
    "import richdem as rd\n",
    "import numpy as np\n",
    "import geopandas as gpd\n",
    "import rasterio as rio\n",
    "from xrspatial import focal\n",
    "import matplotlib.pyplot as plt\n",
    "from xrspatial import hillshade\n",
    "from xrspatial import convolution\n",
    "from datacube.utils import geometry\n",
    "from odc.dscache.tools import tiling\n",
    "from datacube.utils.geometry import BoundingBox, Geometry\n",
    "from datashader.transfer_functions import shade\n",
    "from datacube.utils.geometry import Geometry\n",
    "from deafrica_tools.plotting import map_shapefile\n",
    "from deafrica_tools.dask import create_local_dask_cluster\n",
    "from deafrica_tools.areaofinterest import define_area\n",
    "\n",
    "import warnings\n",
    "\n",
    "warnings.filterwarnings(\"ignore\")"
   ]
  },
  {
   "cell_type": "markdown",
   "id": "24f1ef23-38c7-418e-9d3e-4586beb7124b",
   "metadata": {},
   "source": [
    "### Set up a dask cluster\n",
    "This will help keep our memory use down and conduct the analysis in parallel. If you'd like to view the dask dashboard, click on the hyperlink that prints below the cell. You can use the dashboard to monitor the progress of calculations."
   ]
  },
  {
   "cell_type": "code",
   "execution_count": 3,
   "id": "65f047e6-0343-4be5-a50e-a97bf75f4232",
   "metadata": {},
   "outputs": [
    {
     "data": {
      "text/html": [
       "<div>\n",
       "    <div style=\"width: 24px; height: 24px; background-color: #e1e1e1; border: 3px solid #9D9D9D; border-radius: 5px; position: absolute;\"> </div>\n",
       "    <div style=\"margin-left: 48px;\">\n",
       "        <h3 style=\"margin-bottom: 0px;\">Client</h3>\n",
       "        <p style=\"color: #9D9D9D; margin-bottom: 0px;\">Client-a2d14034-1c88-11ee-80b1-120dbdc7a2d4</p>\n",
       "        <table style=\"width: 100%; text-align: left;\">\n",
       "\n",
       "        <tr>\n",
       "        \n",
       "            <td style=\"text-align: left;\"><strong>Connection method:</strong> Cluster object</td>\n",
       "            <td style=\"text-align: left;\"><strong>Cluster type:</strong> distributed.LocalCluster</td>\n",
       "        \n",
       "        </tr>\n",
       "\n",
       "        \n",
       "            <tr>\n",
       "                <td style=\"text-align: left;\">\n",
       "                    <strong>Dashboard: </strong> <a href=\"/user/mpho.sadiki@digitalearthafrica.org/proxy/8787/status\" target=\"_blank\">/user/mpho.sadiki@digitalearthafrica.org/proxy/8787/status</a>\n",
       "                </td>\n",
       "                <td style=\"text-align: left;\"></td>\n",
       "            </tr>\n",
       "        \n",
       "\n",
       "        </table>\n",
       "\n",
       "        \n",
       "            <button style=\"margin-bottom: 12px;\" data-commandlinker-command=\"dask:populate-and-launch-layout\" data-commandlinker-args='{\"url\": \"/user/mpho.sadiki@digitalearthafrica.org/proxy/8787/status\" }'>\n",
       "                Launch dashboard in JupyterLab\n",
       "            </button>\n",
       "        \n",
       "\n",
       "        \n",
       "            <details>\n",
       "            <summary style=\"margin-bottom: 20px;\"><h3 style=\"display: inline;\">Cluster Info</h3></summary>\n",
       "            <div class=\"jp-RenderedHTMLCommon jp-RenderedHTML jp-mod-trusted jp-OutputArea-output\">\n",
       "    <div style=\"width: 24px; height: 24px; background-color: #e1e1e1; border: 3px solid #9D9D9D; border-radius: 5px; position: absolute;\">\n",
       "    </div>\n",
       "    <div style=\"margin-left: 48px;\">\n",
       "        <h3 style=\"margin-bottom: 0px; margin-top: 0px;\">LocalCluster</h3>\n",
       "        <p style=\"color: #9D9D9D; margin-bottom: 0px;\">3f4a6a94</p>\n",
       "        <table style=\"width: 100%; text-align: left;\">\n",
       "            <tr>\n",
       "                <td style=\"text-align: left;\">\n",
       "                    <strong>Dashboard:</strong> <a href=\"/user/mpho.sadiki@digitalearthafrica.org/proxy/8787/status\" target=\"_blank\">/user/mpho.sadiki@digitalearthafrica.org/proxy/8787/status</a>\n",
       "                </td>\n",
       "                <td style=\"text-align: left;\">\n",
       "                    <strong>Workers:</strong> 1\n",
       "                </td>\n",
       "            </tr>\n",
       "            <tr>\n",
       "                <td style=\"text-align: left;\">\n",
       "                    <strong>Total threads:</strong> 4\n",
       "                </td>\n",
       "                <td style=\"text-align: left;\">\n",
       "                    <strong>Total memory:</strong> 26.21 GiB\n",
       "                </td>\n",
       "            </tr>\n",
       "            \n",
       "            <tr>\n",
       "    <td style=\"text-align: left;\"><strong>Status:</strong> running</td>\n",
       "    <td style=\"text-align: left;\"><strong>Using processes:</strong> True</td>\n",
       "</tr>\n",
       "\n",
       "            \n",
       "        </table>\n",
       "\n",
       "        <details>\n",
       "            <summary style=\"margin-bottom: 20px;\">\n",
       "                <h3 style=\"display: inline;\">Scheduler Info</h3>\n",
       "            </summary>\n",
       "\n",
       "            <div style=\"\">\n",
       "    <div>\n",
       "        <div style=\"width: 24px; height: 24px; background-color: #FFF7E5; border: 3px solid #FF6132; border-radius: 5px; position: absolute;\"> </div>\n",
       "        <div style=\"margin-left: 48px;\">\n",
       "            <h3 style=\"margin-bottom: 0px;\">Scheduler</h3>\n",
       "            <p style=\"color: #9D9D9D; margin-bottom: 0px;\">Scheduler-127e4362-ff3e-43bb-b791-308240b66bd0</p>\n",
       "            <table style=\"width: 100%; text-align: left;\">\n",
       "                <tr>\n",
       "                    <td style=\"text-align: left;\">\n",
       "                        <strong>Comm:</strong> tcp://127.0.0.1:46247\n",
       "                    </td>\n",
       "                    <td style=\"text-align: left;\">\n",
       "                        <strong>Workers:</strong> 1\n",
       "                    </td>\n",
       "                </tr>\n",
       "                <tr>\n",
       "                    <td style=\"text-align: left;\">\n",
       "                        <strong>Dashboard:</strong> <a href=\"/user/mpho.sadiki@digitalearthafrica.org/proxy/8787/status\" target=\"_blank\">/user/mpho.sadiki@digitalearthafrica.org/proxy/8787/status</a>\n",
       "                    </td>\n",
       "                    <td style=\"text-align: left;\">\n",
       "                        <strong>Total threads:</strong> 4\n",
       "                    </td>\n",
       "                </tr>\n",
       "                <tr>\n",
       "                    <td style=\"text-align: left;\">\n",
       "                        <strong>Started:</strong> Just now\n",
       "                    </td>\n",
       "                    <td style=\"text-align: left;\">\n",
       "                        <strong>Total memory:</strong> 26.21 GiB\n",
       "                    </td>\n",
       "                </tr>\n",
       "            </table>\n",
       "        </div>\n",
       "    </div>\n",
       "\n",
       "    <details style=\"margin-left: 48px;\">\n",
       "        <summary style=\"margin-bottom: 20px;\">\n",
       "            <h3 style=\"display: inline;\">Workers</h3>\n",
       "        </summary>\n",
       "\n",
       "        \n",
       "        <div style=\"margin-bottom: 20px;\">\n",
       "            <div style=\"width: 24px; height: 24px; background-color: #DBF5FF; border: 3px solid #4CC9FF; border-radius: 5px; position: absolute;\"> </div>\n",
       "            <div style=\"margin-left: 48px;\">\n",
       "            <details>\n",
       "                <summary>\n",
       "                    <h4 style=\"margin-bottom: 0px; display: inline;\">Worker: 0</h4>\n",
       "                </summary>\n",
       "                <table style=\"width: 100%; text-align: left;\">\n",
       "                    <tr>\n",
       "                        <td style=\"text-align: left;\">\n",
       "                            <strong>Comm: </strong> tcp://127.0.0.1:34363\n",
       "                        </td>\n",
       "                        <td style=\"text-align: left;\">\n",
       "                            <strong>Total threads: </strong> 4\n",
       "                        </td>\n",
       "                    </tr>\n",
       "                    <tr>\n",
       "                        <td style=\"text-align: left;\">\n",
       "                            <strong>Dashboard: </strong> <a href=\"/user/mpho.sadiki@digitalearthafrica.org/proxy/42333/status\" target=\"_blank\">/user/mpho.sadiki@digitalearthafrica.org/proxy/42333/status</a>\n",
       "                        </td>\n",
       "                        <td style=\"text-align: left;\">\n",
       "                            <strong>Memory: </strong> 26.21 GiB\n",
       "                        </td>\n",
       "                    </tr>\n",
       "                    <tr>\n",
       "                        <td style=\"text-align: left;\">\n",
       "                            <strong>Nanny: </strong> tcp://127.0.0.1:45327\n",
       "                        </td>\n",
       "                        <td style=\"text-align: left;\"></td>\n",
       "                    </tr>\n",
       "                    <tr>\n",
       "                        <td colspan=\"2\" style=\"text-align: left;\">\n",
       "                            <strong>Local directory: </strong> /tmp/dask-worker-space/worker-5fe5eiy9\n",
       "                        </td>\n",
       "                    </tr>\n",
       "\n",
       "                    \n",
       "\n",
       "                    \n",
       "\n",
       "                </table>\n",
       "            </details>\n",
       "            </div>\n",
       "        </div>\n",
       "        \n",
       "\n",
       "    </details>\n",
       "</div>\n",
       "\n",
       "        </details>\n",
       "    </div>\n",
       "</div>\n",
       "            </details>\n",
       "        \n",
       "\n",
       "    </div>\n",
       "</div>"
      ],
      "text/plain": [
       "<Client: 'tcp://127.0.0.1:46247' processes=1 threads=4, memory=26.21 GiB>"
      ]
     },
     "metadata": {},
     "output_type": "display_data"
    }
   ],
   "source": [
    "create_local_dask_cluster()"
   ]
  },
  {
   "cell_type": "markdown",
   "id": "8b36115d-6553-4916-ab3e-6ac9c141f5e4",
   "metadata": {},
   "source": [
    "### Initialize Datacube"
   ]
  },
  {
   "cell_type": "code",
   "execution_count": 4,
   "id": "a77cb705-f460-4acb-bb64-913a708fd0e4",
   "metadata": {},
   "outputs": [],
   "source": [
    "dc = datacube.Datacube(app=\"DEM\")"
   ]
  },
  {
   "cell_type": "markdown",
   "id": "ab18357b-9f40-4884-b288-29a5713fa737",
   "metadata": {},
   "source": [
    "### Load vector and plot area of interest"
   ]
  },
  {
   "cell_type": "code",
   "execution_count": 5,
   "id": "aaeffce1-e71c-43be-84cc-a9f285cb7c84",
   "metadata": {},
   "outputs": [],
   "source": [
    "# Specify a prefix to identify the area of interest in the saved outputs\n",
    "# By assigning the desired prefix, you can easily identify the outputs associated with the specific area of interest.\n",
    "prefix = \"South_Africa\"\n",
    "\n",
    "aoi = define_area(shapefile_path='data/south_africa.geojson')\n",
    "\n",
    "# Create a geopolygon and geodataframe of the area of interest\n",
    "geopolygon = Geometry(aoi[\"features\"][0][\"geometry\"], crs=\"epsg:4326\")"
   ]
  },
  {
   "cell_type": "markdown",
   "id": "66a4e059-f64c-45bd-b080-dd208783b24e",
   "metadata": {},
   "source": [
    "### Explore the product names, resolution, and measurements"
   ]
  },
  {
   "cell_type": "code",
   "execution_count": 7,
   "id": "165e6994-3783-418d-be88-434060244b38",
   "metadata": {},
   "outputs": [
    {
     "data": {
      "text/html": [
       "<div>\n",
       "<style scoped>\n",
       "    .dataframe tbody tr th:only-of-type {\n",
       "        vertical-align: middle;\n",
       "    }\n",
       "\n",
       "    .dataframe tbody tr th {\n",
       "        vertical-align: top;\n",
       "    }\n",
       "\n",
       "    .dataframe thead th {\n",
       "        text-align: right;\n",
       "    }\n",
       "</style>\n",
       "<table border=\"1\" class=\"dataframe\">\n",
       "  <thead>\n",
       "    <tr style=\"text-align: right;\">\n",
       "      <th></th>\n",
       "      <th></th>\n",
       "      <th>name</th>\n",
       "      <th>dtype</th>\n",
       "      <th>units</th>\n",
       "      <th>nodata</th>\n",
       "      <th>aliases</th>\n",
       "    </tr>\n",
       "    <tr>\n",
       "      <th>product</th>\n",
       "      <th>measurement</th>\n",
       "      <th></th>\n",
       "      <th></th>\n",
       "      <th></th>\n",
       "      <th></th>\n",
       "      <th></th>\n",
       "    </tr>\n",
       "  </thead>\n",
       "  <tbody>\n",
       "    <tr>\n",
       "      <th>dem_cop_30</th>\n",
       "      <th>elevation</th>\n",
       "      <td>elevation</td>\n",
       "      <td>float32</td>\n",
       "      <td>1</td>\n",
       "      <td>NaN</td>\n",
       "      <td>NaN</td>\n",
       "    </tr>\n",
       "    <tr>\n",
       "      <th rowspan=\"3\" valign=\"top\">dem_srtm_deriv</th>\n",
       "      <th>mrvbf</th>\n",
       "      <td>mrvbf</td>\n",
       "      <td>int16</td>\n",
       "      <td>1</td>\n",
       "      <td>-32768.0</td>\n",
       "      <td>NaN</td>\n",
       "    </tr>\n",
       "    <tr>\n",
       "      <th>mrrtf</th>\n",
       "      <td>mrrtf</td>\n",
       "      <td>int16</td>\n",
       "      <td>1</td>\n",
       "      <td>-32768.0</td>\n",
       "      <td>NaN</td>\n",
       "    </tr>\n",
       "    <tr>\n",
       "      <th>slope</th>\n",
       "      <td>slope</td>\n",
       "      <td>float32</td>\n",
       "      <td>1</td>\n",
       "      <td>-9999.0</td>\n",
       "      <td>NaN</td>\n",
       "    </tr>\n",
       "  </tbody>\n",
       "</table>\n",
       "</div>"
      ],
      "text/plain": [
       "                                 name    dtype units   nodata aliases\n",
       "product        measurement                                           \n",
       "dem_cop_30     elevation    elevation  float32     1      NaN     NaN\n",
       "dem_srtm_deriv mrvbf            mrvbf    int16     1 -32768.0     NaN\n",
       "               mrrtf            mrrtf    int16     1 -32768.0     NaN\n",
       "               slope            slope  float32     1  -9999.0     NaN"
      ]
     },
     "execution_count": 7,
     "metadata": {},
     "output_type": "execute_result"
    }
   ],
   "source": [
    "product_name = ['dem_cop_30', 'dem_srtm_deriv']\n",
    "resolution = (-90, 90)\n",
    "measurements = 'elevation'\n",
    "dc_measurements = dc.list_measurements()\n",
    "dc_measurements.loc[product_name].drop('flags_definition', axis=1)"
   ]
  },
  {
   "cell_type": "markdown",
   "id": "8aaa2f2b-c20d-4099-8186-17fc2a793847",
   "metadata": {},
   "source": [
    "### Set up reusable  query object "
   ]
  },
  {
   "cell_type": "code",
   "execution_count": 8,
   "id": "bead159e-f689-4ced-a115-8d67fc76b20f",
   "metadata": {},
   "outputs": [],
   "source": [
    "dask_chunks = {'x': 2500, 'y': 2500}\n",
    "\n",
    "# set up daatcube query object\n",
    "query = {\n",
    "    'resolution': resolution,\n",
    "    'output_crs': 'epsg:6933',\n",
    "    \"geopolygon\": geopolygon,\n",
    "    'dask_chunks': dask_chunks\n",
    "}"
   ]
  },
  {
   "cell_type": "markdown",
   "id": "8adfa50a-d715-4c99-9b6c-f33cdb7a5e56",
   "metadata": {},
   "source": [
    "### Derive terrain attributes"
   ]
  },
  {
   "cell_type": "markdown",
   "id": "34e4ed64-71a9-49f9-b20f-378e042bf033",
   "metadata": {},
   "source": [
    "##### Elevation, slope, MrVBF, MrRTF, Aspect and curvature"
   ]
  },
  {
   "cell_type": "code",
   "execution_count": 9,
   "id": "d069688b-bc5b-4cbd-a11f-7b7329912a5c",
   "metadata": {},
   "outputs": [],
   "source": [
    "# Define the output directory\n",
    "output_dir = \"data/terrain_attributes/\"\n",
    "# Create the output directory if it does not exist\n",
    "os.makedirs(output_dir, exist_ok=True)\n",
    "\n",
    "# Load the dem 30 m product\n",
    "ds_elev = dc.load(product=\"dem_cop_30\", measurements='elevation',\n",
    "                  **query).squeeze()\n",
    "# Load the ds_deriv dataset\n",
    "ds_deriv = dc.load(product=\"dem_srtm_deriv\",\n",
    "                   measurements=['mrvbf', 'mrrtf', 'slope'],\n",
    "                   **query).squeeze()"
   ]
  },
  {
   "cell_type": "code",
   "execution_count": 10,
   "id": "fc2ba99c-5486-4dd0-bef8-8691af2e88f6",
   "metadata": {},
   "outputs": [
    {
     "name": "stdout",
     "output_type": "stream",
     "text": [
      "Warning! No geotransform defined. Choosing a standard one! (Top left cell's top let corner at <0,0>; cells are 1x1.)\n",
      "Warning! No geotransform defined. Choosing a standard one! (Top left cell's top let corner at <0,0>; cells are 1x1.)\n"
     ]
    },
    {
     "name": "stderr",
     "output_type": "stream",
     "text": [
      "\n",
      "A Aspect attribute calculation\u001b[39m\n",
      "C Horn, B.K.P., 1981. Hill shading and the reflectance map. Proceedings of the IEEE 69, 14–47. doi:10.1109/PROC.1981.11918\u001b[39m\n",
      "\n",
      "\u001b[2K[==                                                ] (3% - 490.1s - 1 threads))"
     ]
    },
    {
     "name": "stdout",
     "output_type": "stream",
     "text": [
      "Warning! No geotransform defined. Choosing a standard one! (Top left cell's top let corner at <0,0>; cells are 1x1.)\n",
      "Warning! No geotransform defined. Choosing a standard one! (Top left cell's top let corner at <0,0>; cells are 1x1.)\n",
      "Warning! No geotransform defined. Choosing a standard one! (Top left cell's top let corner at <0,0>; cells are 1x1.)\n",
      "Warning! No geotransform defined. Choosing a standard one! (Top left cell's top let corner at <0,0>; cells are 1x1.)\n",
      "Warning! No geotransform defined. Choosing a standard one! (Top left cell's top let corner at <0,0>; cells are 1x1.)\n",
      "Warning! No geotransform defined. Choosing a standard one! (Top left cell's top let corner at <0,0>; cells are 1x1.)\n"
     ]
    },
    {
     "name": "stderr",
     "output_type": "stream",
     "text": [
      "\u001b[2Kt Wall-time = 23.1439\u001b[39m                         ] (3% - 745.3s - 1 threads))\n",
      "\n",
      "A Curvature attribute calculation\u001b[39m\n",
      "C Zevenbergen, L.W., Thorne, C.R., 1987. Quantitative analysis of land surface topography. Earth surface processes and landforms 12, 47–56.\u001b[39m\n",
      "\n",
      "\u001b[2Kt Wall-time = 7.68431\u001b[39m                         ] (3% - 247.2s - 1 threads)\n",
      "\n",
      "A Profile curvature attribute calculation\u001b[39m\n",
      "C Zevenbergen, L.W., Thorne, C.R., 1987. Quantitative analysis of land surface topography. Earth surface processes and landforms 12, 47–56.\u001b[39m\n",
      "\n",
      "\u001b[2Kt Wall-time = 15.8445\u001b[39m                         ] (3% - 509.8s - 1 threads))\n",
      "\n",
      "A Planform curvature attribute calculation\u001b[39m\n",
      "C Zevenbergen, L.W., Thorne, C.R., 1987. Quantitative analysis of land surface topography. Earth surface processes and landforms 12, 47–56.\u001b[39m\n",
      "\n",
      "\u001b[2Kt Wall-time = 15.8484\u001b[39m                         ] (3% - 509.9s - 1 threads))\n"
     ]
    }
   ],
   "source": [
    "elevation_path = os.path.join(output_dir, f\"{prefix}_elevation.tif\")\n",
    "ds_elev.elevation.rio.to_raster(elevation_path,\n",
    "                                compress=\"deflate\",\n",
    "                                compress_opts=dict(zlevel=6))\n",
    "\n",
    "# Open the input elevation GeoTIFF file to get the profile information\n",
    "with rio.open(elevation_path) as src:\n",
    "    profile = src.profile\n",
    "\n",
    "    # Update the profile with the desired compression\n",
    "    profile.update(compress=\"deflate\", compress_opts=dict(zlevel=6))\n",
    "\n",
    "    # Calculate terrain attributes\n",
    "    elevation = rd.rdarray(ds_elev.elevation, no_data=-9999)\n",
    "    aspect = rd.TerrainAttribute(elevation, attrib='aspect')\n",
    "    curvature = rd.TerrainAttribute(elevation, attrib='curvature')\n",
    "    profile_curvature = rd.TerrainAttribute(elevation,\n",
    "                                            attrib='profile_curvature')\n",
    "    planform_curvature = rd.TerrainAttribute(elevation,\n",
    "                                             attrib='planform_curvature')\n",
    "\n",
    "    # Export other terrain attributes using the elevation's profile information\n",
    "    attributes = [(aspect, f\"{prefix}_aspect.tif\"),\n",
    "                  (curvature, f\"{prefix}_curvature.tif\"),\n",
    "                  (profile_curvature, f\"{prefix}_profile_curvature.tif\"),\n",
    "                  (planform_curvature, f\"{prefix}_planform_curvature.tif\")]\n",
    "\n",
    "    for attribute, output_filename in attributes:\n",
    "        output_path = os.path.join(output_dir, output_filename)\n",
    "\n",
    "        # Create the output GeoTIFF file and write the attribute data\n",
    "        with rio.open(output_path, 'w', **profile, quiet=True) as dst:\n",
    "            dst.write(attribute, 1)\n",
    "\n",
    "# Export slope, mrrtf, and mrvbf using the elevation's profile information\n",
    "slope_path = os.path.join(output_dir, f\"{prefix}_slope.tif\")\n",
    "ds_deriv.slope.rio.to_raster(slope_path, **profile)\n",
    "\n",
    "mrrtf_path = os.path.join(output_dir, f\"{prefix}_mrrtf.tif\")\n",
    "ds_deriv.mrrtf.rio.to_raster(mrrtf_path, **profile)\n",
    "\n",
    "mrvbf_path = os.path.join(output_dir, f\"{prefix}_mrvbf.tif\")\n",
    "ds_deriv.mrvbf.rio.to_raster(mrvbf_path, **profile)"
   ]
  },
  {
   "cell_type": "markdown",
   "id": "bb5830a6-a66e-4382-9a6f-c162377a030d",
   "metadata": {},
   "source": [
    "#### Topographic Wetness Index (TWI) and Topographic Postion Index (TPI)"
   ]
  },
  {
   "cell_type": "code",
   "execution_count": null,
   "id": "77438969-0f87-4937-a1fc-66ba8f950872",
   "metadata": {},
   "outputs": [
    {
     "name": "stderr",
     "output_type": "stream",
     "text": [
      "/usr/local/lib/python3.10/dist-packages/rasterio/warp.py:344: NotGeoreferencedWarning: Dataset has no geotransform, gcps, or rpcs. The identity matrix will be returned.\n",
      "  _reproject(\n"
     ]
    }
   ],
   "source": [
    "ma_elevation = rd.rdarray(ds_elev.elevation,no_data=-9999)\n",
    "# Derive Topographic Wetness Index (TWI)\n",
    "\n",
    "terrain = ds_elev.elevation\n",
    "# 2Pi radians = 360 degrees\n",
    "# Pi radians = 180 degrees\n",
    "# conversion: Pi radians/180 degress\n",
    "slope_radians = ds_deriv.slope * math.pi/180.0\n",
    "\n",
    "# Get flow accumulation with no explicit weighting. The default will be 1.\n",
    "accum_d8 = rd.FlowAccumulation(ma_elevation, method='D8')\n",
    "\n",
    "# TWI - Every cell calculate the upslope contributing area - stream\n",
    "twi = np.log(accum_d8 / (np.tan(slope_radians)+.01))\n",
    "\n",
    "\n",
    "# Derive Topographic Position Index (TPI)   and hillsahde\n",
    "cellsize_x, cellsize_y = convolution.calc_cellsize(terrain)\n",
    "\n",
    "# Use an annulus kernel with a ring at a distance from 25-30 cells away from focal point\n",
    "outer_radius = str(cellsize_x * 30) + \"m\"\n",
    "inner_radius = str(cellsize_x * 25) + \"m\"\n",
    "kernel = convolution.annulus_kernel(\n",
    "    cellsize_x, cellsize_y, outer_radius, inner_radius)\n",
    "\n",
    "tpi = terrain - focal.apply(terrain, kernel)\n",
    "\n",
    "tpi_terrain = hillshade(terrain - focal.apply(terrain, kernel))\n",
    "tpi_terrain_shaded = shade(\n",
    "    tpi_terrain, cmap=[\"white\", \"black\"], alpha=255, how=\"linear\"\n",
    ")\n",
    "\n",
    "\n",
    "# Export TWI, TPI and Hillshade\n",
    "# Open the input elevation GeoTIFF file to get the profile information\n",
    "with rio.open(os.path.join(output_dir, f\"{prefix}_elevation.tif\")) as src:\n",
    "    profile = src.profile\n",
    "\n",
    "    # Update the profile with the desired compression\n",
    "    profile.update(compress=\"deflate\", compress_opts=dict(level=6))\n",
    "\n",
    "    # Export each variable as a separate GeoTIFF file\n",
    "    for variable, variable_name in [\n",
    "        (tpi, f\"{prefix}_TPI.tif\"),\n",
    "        (twi,f\"{prefix}_TWI.tif\"),\n",
    "        (tpi_terrain, f\"{prefix}_hillshade.tif\"),\n",
    "    ]:\n",
    "        # Generate the output file path\n",
    "        output_file = os.path.join(output_dir, variable_name)\n",
    "\n",
    "        # Create the output GeoTIFF file and write the variable data\n",
    "        with rio.open(output_file, 'w', **profile) as dst:\n",
    "            dst.write(variable, 1)"
   ]
  },
  {
   "cell_type": "markdown",
   "id": "0648ec60-e864-466a-964d-80dd1dfcf0d1",
   "metadata": {},
   "source": [
    "***\n",
    "\n",
    "## Additional information\n",
    "\n",
    "**License:** The code in this notebook is licensed under the [Apache License, Version 2.0](https://www.apache.org/licenses/LICENSE-2.0). \n",
    "Digital Earth Africa data is licensed under the [Creative Commons by Attribution 4.0](https://creativecommons.org/licenses/by/4.0/) license.\n",
    "\n",
    "**Contact:** If you need assistance, please post a question on the [Open Data Cube Slack channel](http://slack.opendatacube.org/) or on the [GIS Stack Exchange](https://gis.stackexchange.com/questions/ask?tags=open-data-cube) using the `open-data-cube` tag (you can view previously asked questions [here](https://gis.stackexchange.com/questions/tagged/open-data-cube)).\n",
    "If you would like to report an issue with this notebook, you can file one on [Github](https://github.com/digitalearthafrica/deafrica-sandbox-notebooks).\n",
    "\n",
    "**Compatible datacube version:** "
   ]
  },
  {
   "cell_type": "code",
   "execution_count": null,
   "id": "24486d9b-6de1-4003-945d-85818ab6071c",
   "metadata": {},
   "outputs": [],
   "source": [
    "from datetime import datetime\n",
    "datetime.today().strftime('%Y-%m-%d')"
   ]
  }
 ],
 "metadata": {
  "kernelspec": {
   "display_name": "Python 3 (ipykernel)",
   "language": "python",
   "name": "python3"
  },
  "language_info": {
   "codemirror_mode": {
    "name": "ipython",
    "version": 3
   },
   "file_extension": ".py",
   "mimetype": "text/x-python",
   "name": "python",
   "nbconvert_exporter": "python",
   "pygments_lexer": "ipython3",
   "version": "3.10.6"
  }
 },
 "nbformat": 4,
 "nbformat_minor": 5
}
